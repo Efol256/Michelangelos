{
 "cells": [
  {
   "cell_type": "markdown",
   "id": "186039a5",
   "metadata": {},
   "source": [
    "# Michelangelo's\n",
    "\n",
    "Su amigo Chocolove McDonell le comenta que inauguró un nuevo restaurante llamado _Michelangelo's_, el cual se especializa en comida italiana. Como dueño del negocio, Chocolove quiere evaluar la rentabilidad de su negocio, pero no es muy bueno sacando cuentas, razón por la que acude a usted por ayuda. \n",
    "\n",
    "El menú del restaurante es el siguiente:\n",
    "> - Carpaccio... `$ 31.500`\n",
    "> - Polenta... `$ 31.500`\n",
    "> - Panna Cotta... `$ 32.000` \n",
    "> - Macchiato... `$ 12.500` \n",
    "> - Latte... `$ 18.000`\n",
    "> - Cappuccino... `$ 19.500` \n",
    "> - Espresso... `$ 21.500` \n",
    "> - Lasagna... `$ 29.000` \n",
    "> - Risotto... `$ 35.500` \n",
    "> - Gnocchi... `$ 56.500` \n",
    "> - Ravioli... `$ 63.500` \n",
    "\n",
    "Chocolove lleva anotaciones de las ventas realizadas durante la primera semana en un pequeño cuaderno, indicando la fecha y los platos servidos. Le ha compartido la siguientes imágenes:\n",
    "\n",
    "<img src=\"ventas_p1.jpg\" style=\"max-height:400px\">\n",
    "<img src=\"ventas_p2.jpg\" style=\"max-height:400px\">\n",
    "\n",
    "**Tip**: Descarga las imágenes de la carpeta del repositorio para observar el texto con mayor facilidad."
   ]
  },
  {
   "cell_type": "markdown",
   "id": "29ad8ea4",
   "metadata": {},
   "source": [
    "# Menú"
   ]
  },
  {
   "cell_type": "markdown",
   "id": "2797b589",
   "metadata": {},
   "source": [
    "Crea una lista llamada `menu` que contenga los elementos del menú de Michelangelo's."
   ]
  },
  {
   "cell_type": "code",
   "execution_count": 198,
   "id": "3cb128e4",
   "metadata": {},
   "outputs": [],
   "source": [
    "menu = ['Carpaccio', 'Polenta', 'Panna Cotta', 'Macchiato', 'Latte', 'Cappuccino', 'Espresso', 'Lasagna', 'Risotto', \n",
    "        'Gnocchi', 'Ravioli']"
   ]
  },
  {
   "cell_type": "markdown",
   "id": "9c242dcf",
   "metadata": {},
   "source": [
    "Crea una lista llamada `prices` que contenga los precios de los elementos del menú de Michelangelo's. El orden de los precios debe corresponder con el orden de los platos en la lista `menu`."
   ]
  },
  {
   "cell_type": "code",
   "execution_count": 199,
   "id": "2c648e26",
   "metadata": {},
   "outputs": [],
   "source": [
    "prices = [31500, 31500, 32000, 12500, 18000, 19500, 21500, 29000, 35500, 56500, 63500] "
   ]
  },
  {
   "cell_type": "markdown",
   "id": "db730bc8",
   "metadata": {},
   "source": [
    "Crea una variable llamada `avg_prc` que almacene el valor del precio promedio de los productos vendidos en Michelangelo's.\n",
    "\n",
    "**Tip**: utiliza la lista `prices` y ciclos para calcular este valor. "
   ]
  },
  {
   "cell_type": "code",
   "execution_count": 200,
   "id": "8d1e899a",
   "metadata": {},
   "outputs": [
    {
     "name": "stdout",
     "output_type": "stream",
     "text": [
      "Precio Promedio: $31909.09\n"
     ]
    }
   ],
   "source": [
    "avg_prc = 0\n",
    "for price in prices:\n",
    "    avg_prc += price\n",
    "avg_prc /= len(prices)\n",
    "print(f'Precio Promedio: ${avg_prc:.2f}')"
   ]
  },
  {
   "cell_type": "markdown",
   "id": "08393c0c",
   "metadata": {},
   "source": [
    "## Ventas"
   ]
  },
  {
   "cell_type": "markdown",
   "id": "97c049c0",
   "metadata": {},
   "source": [
    "Crea una lista para cada día de la semana que contenga los productos vendidos por Michelangelo's. Nombra las variables de la siguiente forma:\n",
    "- `monday`: lista con las ventas del lunes, 16 de enero de 2023\n",
    "- `tuesday`: lista con las ventas del martes, 17 de enero de 2023\n",
    "- `wednesday`: lista con las ventas del miércoles, 18 de enero de 2023\n",
    "- `thursday`: lista con las ventas del jueves, 19 de enero de 2023\n",
    "- `friday`: lista con las ventas del viernes, 20 de enero de 2023\n",
    "- `saturday`: lista con las ventas del sábado, 21 de enero de 2023\n",
    "- `sunday`: lista con las ventas del domingo, 22 de enero de 2023"
   ]
  },
  {
   "cell_type": "code",
   "execution_count": 201,
   "id": "f2b38aa6",
   "metadata": {},
   "outputs": [
    {
     "name": "stdout",
     "output_type": "stream",
     "text": [
      "Lunes: ['Lasagna', 'Polenta', 'Gnocchi', 'Polenta', 'Ravioli', 'Gnocchi', 'Cappuccino', 'Risotto']\n",
      "\n",
      "Martes: ['Risotto', 'Ravioli', 'Risotto', 'Lasagna', 'Carpaccio', 'Espresso', 'Panna Cotta', 'Gnocchi', 'Gnocchi']\n",
      "\n",
      "Miércoles: ['Cappuccino', 'Lasagna', 'Cappuccino', 'Carpaccio', 'Ravioli', 'Polenta', 'Polenta', 'Carpaccio', 'Espresso', 'Lasagna', 'Risotto', 'Carpaccio']\n",
      "\n",
      "Jueves: ['Latte', 'Risotto', 'Risotto', 'Carpaccio', 'Gnocchi', 'Polenta', 'Espresso', 'Latte', 'Ravioli']\n",
      "\n",
      "Viernes: ['Espresso', 'Gnocchi', 'Gnocchi', 'Cappuccino', 'Gnocchi', 'Panna Cotta']\n",
      "\n",
      "Sábado: ['Risotto', 'Carpaccio', 'Macchiato', 'Cappuccino', 'Risotto', 'Polenta', 'Panna Cotta', 'Ravioli', 'Macchiato', 'Panna Cotta', 'Latte', 'Latte', 'Gnocchi']\n",
      "\n",
      "Domingo: ['Polenta', 'Polenta', 'Espresso', 'Ravioli', 'Risotto', 'Macchiato']\n",
      "\n"
     ]
    }
   ],
   "source": [
    "monday_i = [7, 1, 9, 1, 10, 9, 5, 8]\n",
    "monday = []\n",
    "for index in monday_i:\n",
    "    monday.append(menu[index])\n",
    "print(f'Lunes: {monday}\\n')\n",
    "\n",
    "tuesday_i = [8, 10, 8, 7, 0, 6, 2, 9, 9]\n",
    "tuesday = []\n",
    "for index in tuesday_i:\n",
    "    tuesday.append(menu[index])\n",
    "print(f'Martes: {tuesday}\\n')\n",
    "\n",
    "wednesday_i = [5, 7, 5, 0, 10, 1, 1, 0, 6, 7, 8, 0]\n",
    "wednesday = []\n",
    "for index in wednesday_i:\n",
    "    wednesday.append(menu[index])\n",
    "print(f'Miércoles: {wednesday}\\n')\n",
    "\n",
    "thursday_i = [4, 8, 8, 0, 9, 1, 6, 4, 10]\n",
    "thursday = []\n",
    "for index in thursday_i:\n",
    "    thursday.append(menu[index])\n",
    "print(f'Jueves: {thursday}\\n')\n",
    "\n",
    "friday_i = [6, 9, 9, 5, 9, 2]\n",
    "friday = []\n",
    "for index in friday_i:\n",
    "    friday.append(menu[index])\n",
    "print(f'Viernes: {friday}\\n')\n",
    "\n",
    "saturday_i = [8, 0, 3, 5, 8, 1, 2, 10, 3, 2, 4, 4, 9]\n",
    "saturday = []\n",
    "for index in saturday_i:\n",
    "    saturday.append(menu[index])\n",
    "print(f'Sábado: {saturday}\\n')\n",
    "\n",
    "sunday_i = [1, 1, 6, 10, 8, 3]\n",
    "sunday = []\n",
    "for index in sunday_i:\n",
    "    sunday.append(menu[index])\n",
    "print(f'Domingo: {sunday}\\n')"
   ]
  },
  {
   "cell_type": "markdown",
   "id": "0727bc22",
   "metadata": {},
   "source": [
    "Calcula el valor total de las ventas para cada día de la semana. Almacena el valor de las ventas en las siguientes variables:\n",
    "- `total_monday`: variable con el valor total de las ventas del día lunes\n",
    "- `total_tuesday`: variable con el valor total de las ventas del día martes\n",
    "- `total_wednesday`: variable con el valor total de las ventas del día miércoles\n",
    "- `total_thursday`: variable con el valor total de las ventas del día jueves\n",
    "- `total_friday`: variable con el valor total de las ventas del día viernes\n",
    "- `total_saturday`: variable con el valor total de las ventas del día sábado\n",
    "- `total_sunday`: variable con el valor total de las ventas del día domingo\n",
    "\n",
    "**Tip**: utiliza ciclos y las listas de los días de la semana. También puedes usar el método `.index()` para obtener el índice de un elemento en una lista."
   ]
  },
  {
   "cell_type": "code",
   "execution_count": 202,
   "id": "0d6e0781",
   "metadata": {},
   "outputs": [
    {
     "name": "stdout",
     "output_type": "stream",
     "text": [
      "Total monday: $323500\n",
      "Total tuesday: $361500\n",
      "Total wednesday: $375000\n",
      "Total thursday: $311500\n",
      "Total friday: $242500\n",
      "Total saturday: $398500\n",
      "Total sunday: $196000\n"
     ]
    }
   ],
   "source": [
    "days = [monday, tuesday, wednesday, thursday, friday, saturday, sunday]\n",
    "days_labels = [\"monday\", \"tuesday\", \"wednesday\", \"thursday\", \"friday\", \"saturday\", \"sunday\"]\n",
    "days_total = []\n",
    "day_i = 0\n",
    "for day in days:\n",
    "    total_day = 0\n",
    "    for dish in day:\n",
    "        total_day +=  prices[menu.index(dish)]\n",
    "    days_total.append(total_day)\n",
    "    print(f'Total {days_labels[day_i]}: ${total_day}')    \n",
    "    day_i += 1"
   ]
  },
  {
   "cell_type": "markdown",
   "id": "3cc13c70",
   "metadata": {},
   "source": [
    "¿Cuál es valor total de las ventas de Michelangelo's durante su primera semana?"
   ]
  },
  {
   "cell_type": "code",
   "execution_count": 203,
   "id": "c8d1500f",
   "metadata": {},
   "outputs": [
    {
     "name": "stdout",
     "output_type": "stream",
     "text": [
      "Total: $2208500\n"
     ]
    }
   ],
   "source": [
    "print(f'Total: ${sum(days_total)}')"
   ]
  },
  {
   "cell_type": "markdown",
   "id": "762d422a",
   "metadata": {},
   "source": [
    "## Problem Analysis"
   ]
  },
  {
   "cell_type": "markdown",
   "id": "abb03f05",
   "metadata": {},
   "source": [
    "Inicialmente realizamos una copia de los platos contenidos en el menú en una nueva variable:"
   ]
  },
  {
   "cell_type": "code",
   "execution_count": 204,
   "id": "8739ab3e",
   "metadata": {},
   "outputs": [
    {
     "name": "stdout",
     "output_type": "stream",
     "text": [
      "['Carpaccio', 'Polenta', 'Panna Cotta', 'Macchiato', 'Latte', 'Cappuccino', 'Espresso', 'Lasagna', 'Risotto', 'Gnocchi', 'Ravioli']\n"
     ]
    }
   ],
   "source": [
    "dishes = menu.copy()\n",
    "print(dishes)"
   ]
  },
  {
   "cell_type": "markdown",
   "id": "802c7d99",
   "metadata": {},
   "source": [
    "Creamos un diccionario llamando `menu` que contiene los platos y sus respectivos precios:"
   ]
  },
  {
   "cell_type": "code",
   "execution_count": 205,
   "id": "5b8d7a07",
   "metadata": {},
   "outputs": [
    {
     "name": "stdout",
     "output_type": "stream",
     "text": [
      "Carpaccio... $31500\n",
      "Polenta... $31500\n",
      "Panna Cotta... $32000\n",
      "Macchiato... $12500\n",
      "Latte... $18000\n",
      "Cappuccino... $19500\n",
      "Espresso... $21500\n",
      "Lasagna... $29000\n",
      "Risotto... $35500\n",
      "Gnocchi... $56500\n",
      "Ravioli... $63500\n"
     ]
    }
   ],
   "source": [
    "menu = {key:value for key, value in zip(dishes, prices)}\n",
    "\n",
    "for dish, price in menu.items():\n",
    "    print(f\"{dish}... ${price}\")"
   ]
  },
  {
   "cell_type": "markdown",
   "id": "7624a9af",
   "metadata": {},
   "source": [
    "Creamos un diccionario de ventas en el que asociamos las fechas con los platos vendidos en esa fecha:"
   ]
  },
  {
   "cell_type": "code",
   "execution_count": 206,
   "id": "3f23e846",
   "metadata": {},
   "outputs": [
    {
     "name": "stdout",
     "output_type": "stream",
     "text": [
      "2023/01/16: ['Lasagna', 'Polenta', 'Gnocchi', 'Polenta', 'Ravioli', 'Gnocchi', 'Cappuccino', 'Risotto']\n",
      "2023/01/17: ['Risotto', 'Ravioli', 'Risotto', 'Lasagna', 'Carpaccio', 'Espresso', 'Panna Cotta', 'Gnocchi', 'Gnocchi']\n",
      "2023/01/18: ['Cappuccino', 'Lasagna', 'Cappuccino', 'Carpaccio', 'Ravioli', 'Polenta', 'Polenta', 'Carpaccio', 'Espresso', 'Lasagna', 'Risotto', 'Carpaccio']\n",
      "2023/01/19: ['Latte', 'Risotto', 'Risotto', 'Carpaccio', 'Gnocchi', 'Polenta', 'Espresso', 'Latte', 'Ravioli']\n",
      "2023/01/20: ['Espresso', 'Gnocchi', 'Gnocchi', 'Cappuccino', 'Gnocchi', 'Panna Cotta']\n",
      "2023/01/21: ['Risotto', 'Carpaccio', 'Macchiato', 'Cappuccino', 'Risotto', 'Polenta', 'Panna Cotta', 'Ravioli', 'Macchiato', 'Panna Cotta', 'Latte', 'Latte', 'Gnocchi']\n",
      "2023/01/22: ['Polenta', 'Polenta', 'Espresso', 'Ravioli', 'Risotto', 'Macchiato']\n"
     ]
    }
   ],
   "source": [
    "dates = [\"2023/01/16\", \"2023/01/17\", \"2023/01/18\",\n",
    "         \"2023/01/19\", \"2023/01/20\", \"2023/01/21\", \"2023/01/22\"]\n",
    "sales = {key:value for key, value in zip(dates, days)}\n",
    "\n",
    "for date, dishes_in_date in sales.items():\n",
    "    print(f\"{date}: {dishes_in_date}\")"
   ]
  },
  {
   "cell_type": "markdown",
   "id": "2251b6aa",
   "metadata": {},
   "source": [
    "## Agregar Ventas"
   ]
  },
  {
   "cell_type": "markdown",
   "id": "c98b6034",
   "metadata": {},
   "source": [
    "Esta función se encarga de agregar ventas dependiendo de la fecha en la que esta se realizó. Los datos son almacenados en el diccionario `sales`. \n",
    "\n",
    "La función requiere también ingresar una fecha y un plato. \n",
    "Lo primero que hacemos es verificar que el plato existe en nuestro menú, utilizando la copia de los platos originales, `dishes`. \n",
    "\n",
    "Si el plato existe, verificamos la fecha ingresada. Si la fecha no existe, creamos una nueva lista con nuestro plato como único elemento de lista para la nueva fecha. Si la fecha existe, agregamos el plato a la lista existente. "
   ]
  },
  {
   "cell_type": "code",
   "execution_count": 207,
   "id": "195d345e",
   "metadata": {},
   "outputs": [],
   "source": [
    "def add_sale(sales, date, dish):\n",
    "    if dish not in dishes:\n",
    "        print(\"Dish is not in menu.\")\n",
    "    else:\n",
    "        if date not in sales:\n",
    "            sales[date] = [dish]\n",
    "        else:\n",
    "            sales[date].append(dish)\n",
    "        print(f\"Dish \\\"{dish}\\\" added sucessfully.\")"
   ]
  },
  {
   "cell_type": "markdown",
   "id": "1086bcb9",
   "metadata": {},
   "source": [
    "### Verificación `add_sale`"
   ]
  },
  {
   "cell_type": "code",
   "execution_count": 208,
   "id": "7b2a31dd",
   "metadata": {},
   "outputs": [
    {
     "name": "stdout",
     "output_type": "stream",
     "text": [
      "Ventas del 2023/01/22: ['Polenta', 'Polenta', 'Espresso', 'Ravioli', 'Risotto', 'Macchiato']\n",
      "----------\n",
      "Dish \"Lasagna\" added sucessfully.\n",
      "----------\n",
      "Ventas del 2023/01/22 (después de agregar): ['Polenta', 'Polenta', 'Espresso', 'Ravioli', 'Risotto', 'Macchiato', 'Lasagna']\n"
     ]
    }
   ],
   "source": [
    "date = \"2023/01/22\"\n",
    "dish = \"Lasagna\"\n",
    "print(f\"Ventas del {date}: {sales[date]}\")\n",
    "print(\"-\"*10)\n",
    "add_sale(sales, date, dish)\n",
    "print(\"-\"*10)\n",
    "print(f\"Ventas del {date} (después de agregar): {sales[date]}\")"
   ]
  },
  {
   "cell_type": "markdown",
   "id": "029afe8a",
   "metadata": {},
   "source": [
    "## Calcular total ventas por fecha"
   ]
  },
  {
   "cell_type": "markdown",
   "id": "a7ed9a55",
   "metadata": {},
   "source": [
    "En esta función debemos verificar la existencia de la fecha. Si no existe, podríamos arrojar un valor indicando que no se ha vendio nada. Si la fecha existe, podemos iterar a través de los elementos de la lista correspondiente a la fecha en nuestro diccionario `sales`, y luego sumar sus precios usando el diccionario `menu`."
   ]
  },
  {
   "cell_type": "code",
   "execution_count": 209,
   "id": "22b23e51",
   "metadata": {},
   "outputs": [],
   "source": [
    "def calculate_total_date(sales, date):\n",
    "    total = 0\n",
    "    if date not in sales:\n",
    "        print(\"Date does not exist.\")\n",
    "    else:\n",
    "        sales_date = sales[date]\n",
    "        for sale in sales_date:\n",
    "            total += menu[sale]\n",
    "    return total"
   ]
  },
  {
   "cell_type": "markdown",
   "id": "ab39016b",
   "metadata": {},
   "source": [
    "### Verificación `calculate_total_date`"
   ]
  },
  {
   "cell_type": "code",
   "execution_count": 210,
   "id": "11158df5",
   "metadata": {},
   "outputs": [
    {
     "name": "stdout",
     "output_type": "stream",
     "text": [
      "Total ventas en fecha 2023/01/16: $323500\n"
     ]
    }
   ],
   "source": [
    "date = \"2023/01/16\"\n",
    "print(f\"Total ventas en fecha {date}: ${calculate_total_date(sales, date)}\")"
   ]
  },
  {
   "cell_type": "markdown",
   "id": "c6406eb5",
   "metadata": {},
   "source": [
    "## Calcular ventas totales"
   ]
  },
  {
   "cell_type": "markdown",
   "id": "b1ae9cee",
   "metadata": {},
   "source": [
    "Utilizando la función `calculate_total_date`, podemos agregar las ventas por fecha y totalizar."
   ]
  },
  {
   "cell_type": "code",
   "execution_count": 211,
   "id": "11933a3d",
   "metadata": {},
   "outputs": [],
   "source": [
    "def calculate_total_sales(sales):\n",
    "    total = 0\n",
    "    for day in sales:\n",
    "        total += calculate_total_date(sales, day)\n",
    "    return total"
   ]
  },
  {
   "cell_type": "markdown",
   "id": "05e85236",
   "metadata": {},
   "source": [
    "### Verificación `calculate_total_sales`"
   ]
  },
  {
   "cell_type": "code",
   "execution_count": 212,
   "id": "d1a26910",
   "metadata": {},
   "outputs": [
    {
     "name": "stdout",
     "output_type": "stream",
     "text": [
      "Total ventas: $2237500\n"
     ]
    }
   ],
   "source": [
    "print(f\"Total ventas: ${calculate_total_sales(sales)}\")"
   ]
  }
 ],
 "metadata": {
  "kernelspec": {
   "display_name": "Python 3 (ipykernel)",
   "language": "python",
   "name": "python3"
  },
  "language_info": {
   "codemirror_mode": {
    "name": "ipython",
    "version": 3
   },
   "file_extension": ".py",
   "mimetype": "text/x-python",
   "name": "python",
   "nbconvert_exporter": "python",
   "pygments_lexer": "ipython3",
   "version": "3.10.6"
  }
 },
 "nbformat": 4,
 "nbformat_minor": 5
}
